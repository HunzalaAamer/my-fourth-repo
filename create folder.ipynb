{
 "cells": [
  {
   "cell_type": "code",
   "execution_count": 6,
   "id": "3cdbe561",
   "metadata": {},
   "outputs": [
    {
     "name": "stdout",
     "output_type": "stream",
     "text": [
      "Folder Hunzala aamer has been created.\n"
     ]
    }
   ],
   "source": [
    "import os\n",
    "create_folder = \"Hunzala aamer\"\n",
    "os.mkdir(create_folder)\n",
    "print(f\"Folder {create_folder} has been created.\")"
   ]
  }
 ],
 "metadata": {
  "kernelspec": {
   "display_name": "base",
   "language": "python",
   "name": "python3"
  },
  "language_info": {
   "codemirror_mode": {
    "name": "ipython",
    "version": 3
   },
   "file_extension": ".py",
   "mimetype": "text/x-python",
   "name": "python",
   "nbconvert_exporter": "python",
   "pygments_lexer": "ipython3",
   "version": "3.12.7"
  }
 },
 "nbformat": 4,
 "nbformat_minor": 5
}
