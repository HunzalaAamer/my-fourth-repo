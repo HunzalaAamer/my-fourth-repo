{
 "cells": [
  {
   "cell_type": "code",
   "execution_count": 3,
   "id": "bc69c309",
   "metadata": {},
   "outputs": [],
   "source": [
    "file = open('my_personal_folder.txt','w')\n",
    "file.write('today I go to market!')\n",
    "file.close()"
   ]
  }
 ],
 "metadata": {
  "kernelspec": {
   "display_name": "base",
   "language": "python",
   "name": "python3"
  },
  "language_info": {
   "codemirror_mode": {
    "name": "ipython",
    "version": 3
   },
   "file_extension": ".py",
   "mimetype": "text/x-python",
   "name": "python",
   "nbconvert_exporter": "python",
   "pygments_lexer": "ipython3",
   "version": "3.12.7"
  }
 },
 "nbformat": 4,
 "nbformat_minor": 5
}
